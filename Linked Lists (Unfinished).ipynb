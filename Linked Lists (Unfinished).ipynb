{
 "cells": [
  {
   "cell_type": "markdown",
   "metadata": {},
   "source": [
    "## Initialization"
   ]
  },
  {
   "cell_type": "code",
   "execution_count": 1,
   "metadata": {
    "collapsed": true
   },
   "outputs": [],
   "source": [
    "class Node:\n",
    "    def __init__(self, data):\n",
    "        self.data = data\n",
    "        self.next = None\n",
    "\n",
    "class SinglyLinkedList:\n",
    "    def __init__(self, head):\n",
    "        self.head = head\n",
    "        \n",
    "    def __repr__(self):\n",
    "        s = []\n",
    "        s.append(self.head.data)\n",
    "        n = self.head\n",
    "        while n.next != None:\n",
    "            n = n.next\n",
    "            s.append(n.data)\n",
    "        return ', '.join([str(i) for i in s])\n",
    "    \n",
    "    def __str__(self):\n",
    "        return self.__repr__()\n",
    "    \n",
    "    def toList(self):\n",
    "        return [int(i) for i in self.__repr__().split(', ')]\n",
    "        \n",
    "def createSinglyLinkedList(l):\n",
    "    if l == None:\n",
    "        return SinglyLinkedList(None)\n",
    "    \n",
    "    head = Node(l[0])\n",
    "    slinkedlist = SinglyLinkedList(head)\n",
    "    \n",
    "    n = head\n",
    "    for i in range(1, len(l)):\n",
    "        n.next = Node(l[i])\n",
    "        n = n.next\n",
    "        \n",
    "    return slinkedlist"
   ]
  },
  {
   "cell_type": "markdown",
   "metadata": {},
   "source": [
    "#### 2.1 Remove Dups: Write code to remove duplicates from an unsorted linkedlist. How can you do this problem without a temporary buffer? "
   ]
  },
  {
   "cell_type": "code",
   "execution_count": 75,
   "metadata": {},
   "outputs": [
    {
     "name": "stdout",
     "output_type": "stream",
     "text": [
      "[1, 2, 3, 4, 5, 6] -> 1, 2, 3, 4, 5, 6. Should be: [1, 2, 3, 4, 5, 6]\n",
      "[6, 5, 4, 3, 2, 1] -> 6, 5, 4, 3, 2, 1. Should be: [6, 5, 4, 3, 2, 1]\n",
      "[1, 1, 1, 1, 1] -> 1. Should be: [1]\n",
      "[5, 5, 2, 1, 5, 2, 3, 4, 1] -> 5, 2, 1, 3, 4. Should be: [5, 2, 1, 3, 4]\n"
     ]
    }
   ],
   "source": [
    "from collections import deque\n",
    "\n",
    "def whatItShouldBe(l):\n",
    "    if l == None:\n",
    "        return None\n",
    "    if l == []:\n",
    "        return None\n",
    "    \n",
    "    s = set()\n",
    "    i = 0\n",
    "    while i < len(l):\n",
    "        if l[i] in s:\n",
    "            del l[i]\n",
    "        else:\n",
    "            s.add(l[i])\n",
    "            i += 1\n",
    "    return l\n",
    "\n",
    "#Solution\n",
    "def removeDupes(linkedlist):\n",
    "    if linkedlist == None or linkedlist.head == None:\n",
    "        return None\n",
    "    \n",
    "    head = linkedlist.head\n",
    "    if head.next == None:\n",
    "        return head\n",
    "    \n",
    "    vals = set()\n",
    "    vals.add(head.data)\n",
    "    n = head\n",
    "\n",
    "    while n.next != None:\n",
    "        if n.next.data in vals:\n",
    "            n.next = n.next.next\n",
    "        else:\n",
    "            vals.add(n.next.data)\n",
    "            n = n.next\n",
    "    \n",
    "    return linkedlist\n",
    "\n",
    "tests = [\n",
    "    [1,2,3,4,5,6],\n",
    "    [6,5,4,3,2,1],\n",
    "    [1,1,1,1,1],\n",
    "    [5,5,2,1,5,2,3,4,1]\n",
    "]\n",
    "\n",
    "for i in tests:\n",
    "    print(\"{0} -> {1}. Should be: {2}\".format(i.copy(), removeDupes(createSinglyLinkedList(i.copy())), whatItShouldBe(i.copy())))\n"
   ]
  },
  {
   "cell_type": "markdown",
   "metadata": {},
   "source": [
    "For the first part the solution is O(n). Just make a set to contain unique values - if a node contains a value in the set then remove the node. <br>\n",
    "In order to do this without using a buffer we need to first sort the linkedList.\n",
    "<font color=red>Do the second part!</font>"
   ]
  },
  {
   "cell_type": "markdown",
   "metadata": {},
   "source": [
    "#### 2.2 Return Kth to last: Implement an algorithm to find the kth to last element of a singly linked list."
   ]
  },
  {
   "cell_type": "markdown",
   "metadata": {},
   "source": [
    "Assumptions: <br>\n",
    "[1,2,3]<br>\n",
    "k = 0 should return 3<br>\n",
    "k = 2 should return 1<br>\n",
    "k can't equal 3"
   ]
  },
  {
   "cell_type": "code",
   "execution_count": 79,
   "metadata": {
    "collapsed": true
   },
   "outputs": [],
   "source": [
    "def getKElement(slinkedlist, k):\n",
    "    if slinkedlist == None: return None\n",
    "    if slinkedlist.head == None: return None\n",
    "    if k < 0: raise Exception('Out of Bounds')\n",
    "    \n",
    "    head = slinkedlist.head\n",
    "    count = 0\n",
    "    n = head\n",
    "    while n.next != None:\n",
    "        count += 1\n",
    "        n = n.next\n",
    "    \n",
    "    if k > count: raise Exception(\"Out of Bounds\")\n",
    "    ind = count - k\n",
    "    \n",
    "    n = head\n",
    "    count = 0\n",
    "    if ind == 0: return n.data\n",
    "    while n.next != None:\n",
    "        n = n.next\n",
    "        count += 1\n",
    "        if count == ind:\n",
    "            return n.data\n",
    "    \n",
    "    raise Exception('Unexpected Termination')\n",
    "    \n",
    "sll = createSinglyLinkedList([4,2,5,6,7,1,9,8,0])\n",
    "assert getKElement(sll, 0) == 0, 'Should be 0'\n",
    "assert getKElement(sll, 3) == 1, 'Should be 1'\n",
    "assert getKElement(None, 1) == None, 'Should be None'\n",
    "assert getKElement(sll, 8) == 4, 'Should be 4'"
   ]
  },
  {
   "cell_type": "markdown",
   "metadata": {},
   "source": [
    "Solution is O(N).\n",
    "\n",
    "<font color='red'>Do this problem again with recursion!</font>"
   ]
  },
  {
   "cell_type": "markdown",
   "metadata": {},
   "source": [
    "#### 2.3 Delete Middle Node: Implement an algorithm to delete a node in the middle of a singly linked list given only access to that node."
   ]
  },
  {
   "cell_type": "code",
   "execution_count": 8,
   "metadata": {},
   "outputs": [
    {
     "name": "stdout",
     "output_type": "stream",
     "text": [
      "1, 4, 9, 12\n",
      "Removing 4\n",
      "1, 9, 12\n",
      "-----\n",
      "1, 2, 4, 2, 3, 3434, 4, 5, 6, 7, 9\n",
      "Removing 3434\n",
      "1, 2, 4, 2, 3, 4, 5, 6, 7, 9\n"
     ]
    }
   ],
   "source": [
    "def removeGivenNode(node):\n",
    "    if node.next == None:\n",
    "        raise Exception(\"Given the last node!\")\n",
    "        \n",
    "    prevNode = node\n",
    "    nextNode = node.next\n",
    "    prevNode.data = nextNode.data\n",
    "    while nextNode.next != None:\n",
    "        prevNode = nextNode\n",
    "        nextNode = nextNode.next\n",
    "        prevNode.data = nextNode.data\n",
    "        \n",
    "    prevNode.next = None\n",
    "    \n",
    "\n",
    "sL = createSinglyLinkedList([1,4,9,12])\n",
    "print(sL)\n",
    "nodeToRemove = sL.head.next\n",
    "print(\"Removing {0}\".format(nodeToRemove.data))\n",
    "removeGivenNode(nodeToRemove)\n",
    "print(sL)\n",
    "print('-----')\n",
    "sL = createSinglyLinkedList([1,2,4,2,3,3434,4,5,6,7,9])\n",
    "print(sL)\n",
    "nodeToRemove = sL.head.next.next.next.next.next\n",
    "print(\"Removing {0}\".format(nodeToRemove.data))\n",
    "removeGivenNode(nodeToRemove)\n",
    "print(sL)"
   ]
  },
  {
   "cell_type": "markdown",
   "metadata": {},
   "source": [
    "Should be O(N)\n",
    "\n",
    "<font color='red'> Your solution is overkill :( </font>"
   ]
  },
  {
   "cell_type": "code",
   "execution_count": 25,
   "metadata": {},
   "outputs": [
    {
     "name": "stdout",
     "output_type": "stream",
     "text": [
      "1, 4, 9, 12\n",
      "Removing 4\n",
      "1, 9, 12\n",
      "-----\n",
      "1, 2, 4, 2, 3, 3434, 4, 5, 6, 7, 9\n",
      "Removing 3434\n",
      "1, 2, 4, 2, 3, 4, 5, 6, 7, 9\n"
     ]
    }
   ],
   "source": [
    "#Better solution\n",
    "def removeGivenNode(node):\n",
    "    if node.next == None:\n",
    "        raise Exception(\"Given the last node!\")\n",
    "    \n",
    "    node.data = node.next.data\n",
    "    node.next = node.next.next\n",
    "    \n",
    "sL = createSinglyLinkedList([1,4,9,12])\n",
    "print(sL)\n",
    "nodeToRemove = sL.head.next\n",
    "print(\"Removing {0}\".format(nodeToRemove.data))\n",
    "removeGivenNode(nodeToRemove)\n",
    "print(sL)\n",
    "print('-----')\n",
    "sL = createSinglyLinkedList([1,2,4,2,3,3434,4,5,6,7,9])\n",
    "print(sL)\n",
    "nodeToRemove = sL.head.next.next.next.next.next\n",
    "print(\"Removing {0}\".format(nodeToRemove.data))\n",
    "removeGivenNode(nodeToRemove)\n",
    "print(sL)"
   ]
  },
  {
   "cell_type": "markdown",
   "metadata": {},
   "source": [
    "#### 2.4 Partition: Write code to partition a linked list around a value x, such that all nodes less than x come before all nodes greater than or equal to x. If x is contained within the list, the values of x only need to be after the elements less than x (see below). The partition element x can appear anywhere in the \"right partition\"; it does not need to appear between the left and the right partitions. \n",
    "\n",
    "Input:   3 -> 5 -> 8 -> 5 -> 10 -> 2 -> 1 [partition = 5] <br>\n",
    "Output:  3 -> 1 -> 2 -> 10 -> 5 -> 5 -> 8"
   ]
  },
  {
   "cell_type": "code",
   "execution_count": 23,
   "metadata": {},
   "outputs": [
    {
     "name": "stdout",
     "output_type": "stream",
     "text": [
      "3, 5, 8, 5, 10, 2, 1\n",
      "1, 2, 3, 5, 5, 8, 10\n"
     ]
    }
   ],
   "source": [
    "from collections import deque\n",
    "def addToDict(d, key, val):\n",
    "    if key in d:\n",
    "        d[key].append(val)\n",
    "    else:\n",
    "        d[key] = deque([val])\n",
    "        \n",
    "def partition(sl, partition):\n",
    "    if sl == None: return None\n",
    "    if sl.head == None: return None\n",
    "    if sl.head.next == None: return None\n",
    "    n = sl.head\n",
    "    \n",
    "    d = {}\n",
    "    addToDict(d, n.data, n)\n",
    "    while n.next != None:\n",
    "        n = n.next\n",
    "        addToDict(d, n.data, n)\n",
    "        \n",
    "    nHead = None\n",
    "    vals = list(d.keys())\n",
    "    vals.sort()\n",
    "    \n",
    "    nHead = d[vals[0]].popleft()\n",
    "    n = nHead\n",
    "    for i in vals:\n",
    "        for node in d[i]:\n",
    "            n.next = node\n",
    "            n = node\n",
    "    n.next = None\n",
    "    sl.head = nHead\n",
    "\n",
    "    \n",
    "sl = createSinglyLinkedList([3,5,8,5,10,2,1])\n",
    "print(sl)\n",
    "partition(sl, 5)\n",
    "print(sl)"
   ]
  },
  {
   "cell_type": "markdown",
   "metadata": {},
   "source": [
    "Your solution uses sorting and is O(nlogn). <font color='red'>Can you do it without sorting? </font>"
   ]
  },
  {
   "cell_type": "code",
   "execution_count": 47,
   "metadata": {},
   "outputs": [
    {
     "name": "stdout",
     "output_type": "stream",
     "text": [
      "0, 3, 5, 8, 5, 2, 1, 10\n",
      "Partition: 5\n",
      "0, 3, 2, 1, 10, 5, 8, 5\n",
      "-------------\n",
      "Partition: 10\n",
      "0, 3, 2, 1, 5, 8, 5, 10\n",
      "-------------\n",
      "Partition: 1\n",
      "0, 10, 5, 8, 5, 1, 2, 3\n",
      "-------------\n",
      "Partition: 100\n",
      "0, 10, 5, 8, 5, 1, 2, 3\n",
      "-------------\n",
      "Partition: 0\n",
      "3, 2, 1, 5, 8, 5, 10, 0\n"
     ]
    }
   ],
   "source": [
    "def partition(sl, partition):\n",
    "    if sl == None: return None\n",
    "    if sl.head == None: return None\n",
    "    if sl.head.next == None: return None\n",
    "    n = sl.head\n",
    "    \n",
    "    lessThanStart = None\n",
    "    lessThan = None\n",
    "    greaterThan = None\n",
    "    \n",
    "    while n != None:\n",
    "        nex = n.next\n",
    "        n.next = None\n",
    "        if n.data < partition:\n",
    "            if lessThan == None:\n",
    "                lessThan = n\n",
    "                lessThanStart = lessThan\n",
    "            else:\n",
    "                lessThan.next = n\n",
    "                lessThan = n\n",
    "        else:\n",
    "            if greaterThan == None:\n",
    "                greaterThan = n\n",
    "            else:\n",
    "                n.next = greaterThan\n",
    "                greaterThan = n\n",
    "        n = nex\n",
    "#         if lessThan:\n",
    "#             print(\"less than {0}\".format(SinglyLinkedList(lessThanStart)))\n",
    "#         if greaterThan:\n",
    "#             print(\"greater than {0}\".format(SinglyLinkedList(greaterThan)))\n",
    "#         print('end')\n",
    "        \n",
    "    if lessThan:\n",
    "        lessThan.next = greaterThan\n",
    "        sl.head = lessThanStart\n",
    "    else:\n",
    "        sl.head = greaterThan\n",
    "\n",
    "sl = createSinglyLinkedList([0, 3, 5, 8, 5, 2, 1, 10])\n",
    "print(sl)\n",
    "\n",
    "print('Partition: {0}'.format(5))\n",
    "partition(sl, 5)\n",
    "print(sl)\n",
    "\n",
    "print('-------------')\n",
    "\n",
    "print('Partition: {0}'.format(10))\n",
    "partition(sl, 10)\n",
    "print(sl)\n",
    "\n",
    "print('-------------')\n",
    "\n",
    "print('Partition: {0}'.format(1))\n",
    "partition(sl, 1)\n",
    "print(sl)\n",
    "\n",
    "print('-------------')\n",
    "\n",
    "print('Partition: {0}'.format(100))\n",
    "partition(sl, 100)\n",
    "print(sl)\n",
    "\n",
    "print('-------------')\n",
    "\n",
    "print('Partition: {0}'.format(0))\n",
    "partition(sl, 0)\n",
    "print(sl)"
   ]
  },
  {
   "cell_type": "markdown",
   "metadata": {},
   "source": [
    "#### 2.5 Sum Lists: You have two numbers represented by a linked list where each node contains a single digit. The digits are stored in reverse order, such that the 's digit is at the head of the list. Write a function that adds up the two numbers and returns the sum as a linked list.\n",
    "\n",
    "Example <br>\n",
    "(7 -> 1 -> 6) + (5 -> 9 -> 2) = (2 -> 1 -> 9) (617 + 295 = 912)\n",
    "\n",
    "Follow Up: Suppose the digits are stored in forward order?"
   ]
  },
  {
   "cell_type": "code",
   "execution_count": 71,
   "metadata": {},
   "outputs": [
    {
     "name": "stdout",
     "output_type": "stream",
     "text": [
      "100+100=200\n",
      "215999+122111=338110\n",
      "25+5=30\n",
      "29+5=34\n"
     ]
    }
   ],
   "source": [
    "def convertToString(sl):\n",
    "    return ''.join([str(i) for i in list(reversed(sl.toList()))])\n",
    "\n",
    "def sumLists(l1, l2):\n",
    "    if l2 == None: return l1\n",
    "    if l1 == None: return l2\n",
    "    \n",
    "    startNode = Node(-1)\n",
    "    n = startNode\n",
    "    carryOver = 0\n",
    "    while l1 != None or l2 != None:\n",
    "        l1val = l1.data if l1 else 0\n",
    "        l2val = l2.data if l2 else 0\n",
    "            \n",
    "        s = l1val + l2val + carryOver\n",
    "        if s >= 10:\n",
    "            carryOver = 1\n",
    "            s = s % 10\n",
    "        else:\n",
    "            carryOver = 0\n",
    "        n.next = Node(s)\n",
    "        n = n.next\n",
    "        \n",
    "        if l1: l1 = l1.next\n",
    "        if l2: l2 = l2.next\n",
    "        if l1 == None and l2 == None and carryOver == 1:\n",
    "            n.next = Node(1)\n",
    "         \n",
    "    return SinglyLinkedList(startNode.next)\n",
    "\n",
    "l1 = createSinglyLinkedList([0,0,1])\n",
    "l2 = createSinglyLinkedList([0,0,1])\n",
    "print(\"{0}+{1}={2}\".format(convertToString(l1), convertToString(l2), convertToString(sumLists(l1.head, l2.head))))\n",
    "\n",
    "l1 = createSinglyLinkedList([9,9,9,5,1,2])\n",
    "l2 = createSinglyLinkedList([1,1,1,2,2,1])\n",
    "print(\"{0}+{1}={2}\".format(convertToString(l1), convertToString(l2), convertToString(sumLists(l1.head, l2.head))))\n",
    "\n",
    "l1 = createSinglyLinkedList([5,2])\n",
    "l2 = createSinglyLinkedList([5])\n",
    "print(\"{0}+{1}={2}\".format(convertToString(l1), convertToString(l2), convertToString(sumLists(l1.head, l2.head))))\n",
    "\n",
    "l1 = createSinglyLinkedList([9,2])\n",
    "l2 = createSinglyLinkedList([5])\n",
    "print(\"{0}+{1}={2}\".format(convertToString(l1), convertToString(l2), convertToString(sumLists(l1.head, l2.head))))"
   ]
  },
  {
   "cell_type": "markdown",
   "metadata": {},
   "source": [
    "Solution is O(N). uses roughly O(N) space. "
   ]
  },
  {
   "cell_type": "code",
   "execution_count": 75,
   "metadata": {},
   "outputs": [
    {
     "name": "stdout",
     "output_type": "stream",
     "text": [
      "100+100=2\n"
     ]
    }
   ],
   "source": [
    "def convertToString(sl):\n",
    "    return ''.join([str(i) for i in list(reversed(sl.toList()))])\n",
    "\n",
    "def sumLists(l1, l2):\n",
    "    if l1 == None and l2 == None:\n",
    "        return 0\n",
    "    if l1 == None and l2 != None:\n",
    "        return l2.data\n",
    "    if l1 != None and l2 == None:\n",
    "        return l1.data\n",
    "    \n",
    "    return sumLists(l1.next, l2.next) + l2.data + l1.data\n",
    "\n",
    "l1 = createSinglyLinkedList([0,0,1])\n",
    "l2 = createSinglyLinkedList([0,0,1])\n",
    "print(\"{0}+{1}={2}\".format(convertToString(l1), convertToString(l2), sumLists(l1.head, l2.head)))"
   ]
  },
  {
   "cell_type": "markdown",
   "metadata": {},
   "source": [
    "<font color='red'> finish the follow up </font>"
   ]
  },
  {
   "cell_type": "code",
   "execution_count": null,
   "metadata": {
    "collapsed": true
   },
   "outputs": [],
   "source": []
  }
 ],
 "metadata": {
  "kernelspec": {
   "display_name": "Python 3",
   "language": "python",
   "name": "python3"
  },
  "language_info": {
   "codemirror_mode": {
    "name": "ipython",
    "version": 3
   },
   "file_extension": ".py",
   "mimetype": "text/x-python",
   "name": "python",
   "nbconvert_exporter": "python",
   "pygments_lexer": "ipython3",
   "version": "3.6.2"
  }
 },
 "nbformat": 4,
 "nbformat_minor": 2
}
