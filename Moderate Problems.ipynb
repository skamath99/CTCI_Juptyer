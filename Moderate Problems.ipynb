{
 "cells": [
  {
   "cell_type": "markdown",
   "metadata": {},
   "source": [
    "### 16.3 Intersection: \n",
    "#### Given two straight line segments (represented as a start point and an end point), compute the point of intersection, if any"
   ]
  },
  {
   "cell_type": "code",
   "execution_count": 49,
   "metadata": {},
   "outputs": [],
   "source": [
    "from decimal import Decimal\n",
    "class LineSegment:\n",
    "    def __init__(self, start_point, end_point):\n",
    "        self.start = [Decimal(str(i)) for i in start_point]\n",
    "        self.end = [Decimal(str(i)) for i in end_point]\n",
    "        \n",
    "    def getSlope(self):\n",
    "        start = self.start\n",
    "        end = self.end\n",
    "        return (end[1]-start[1])/(end[0]-start[0])\n",
    "    \n",
    "    def getYIntercept(self):\n",
    "        start = self.start\n",
    "        end = self.end\n",
    "        return end[1]-(self.getSlope()*end[0])\n",
    "    \n",
    "    def isXInRange(self, x):\n",
    "        start = self.start\n",
    "        end = self.end\n",
    "        if min(start[0], end[0]) <= x <= max(start[0], end[0]) :\n",
    "            return True\n",
    "        else:\n",
    "            return False\n",
    "        \n",
    "    def isYInRange(self, y):\n",
    "        start = self.start\n",
    "        end = self.end\n",
    "        if min(start[1], end[1]) <= y <= max(start[1], end[1]) :\n",
    "            return True\n",
    "        else:\n",
    "            return False\n",
    "        \n",
    "def getIntersection(l1, l2):\n",
    "    if l1 == None or l2 == None: return None\n",
    "    if l1.getSlope() == l2.getSlope(): return None\n",
    "    \n",
    "    intercept_x = (l2.getYIntercept() - l1.getYIntercept())/(l1.getSlope() - l2.getSlope())\n",
    "    intercept_y = (l1.getSlope()*intercept_x) + l1.getYIntercept()\n",
    "    \n",
    "    is_x_inRange = l1.isXInRange(intercept_x) and l2.isXInRange(intercept_x)\n",
    "    is_y_inRange = l1.isXInRange(intercept_y) and l2.isXInRange(intercept_y)\n",
    "    \n",
    "    if is_x_inRange and is_y_inRange:\n",
    "        return [intercept_x, intercept_y]\n",
    "    else:\n",
    "        return None"
   ]
  },
  {
   "cell_type": "code",
   "execution_count": 50,
   "metadata": {},
   "outputs": [],
   "source": [
    "l1 = LineSegment([1,1], [3,3])\n",
    "l2 = LineSegment([1,2], [4,1])\n",
    "l3 = LineSegment([1,4], [4,3])\n",
    "l4 = LineSegment([4,1], [1,2])"
   ]
  },
  {
   "cell_type": "code",
   "execution_count": 52,
   "metadata": {},
   "outputs": [
    {
     "name": "stdout",
     "output_type": "stream",
     "text": [
      "[Decimal('1.750000000000000000000000000'), Decimal('1.750000000000000000000000000')]\n",
      "None\n",
      "None\n",
      "[Decimal('1.750000000000000000000000000'), Decimal('1.750000000000000000000000000')]\n"
     ]
    }
   ],
   "source": [
    "print(getIntersection(l1, l2))\n",
    "print(getIntersection(l3, l1))\n",
    "print(getIntersection(l3, l2))\n",
    "print(getIntersection(l4, l1))"
   ]
  }
 ],
 "metadata": {
  "kernelspec": {
   "display_name": "Python 3",
   "language": "python",
   "name": "python3"
  },
  "language_info": {
   "codemirror_mode": {
    "name": "ipython",
    "version": 3
   },
   "file_extension": ".py",
   "mimetype": "text/x-python",
   "name": "python",
   "nbconvert_exporter": "python",
   "pygments_lexer": "ipython3",
   "version": "3.5.2"
  }
 },
 "nbformat": 4,
 "nbformat_minor": 2
}
