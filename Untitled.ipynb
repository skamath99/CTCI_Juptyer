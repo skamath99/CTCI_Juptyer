{
 "cells": [
  {
   "cell_type": "code",
   "execution_count": 5,
   "metadata": {},
   "outputs": [],
   "source": [
    "from enum import Enum\n",
    "class Direction(Enum):\n",
    "    UP = 1\n",
    "    DOWN = 2\n",
    "    RIGHT = 3\n",
    "    LEFT = 4\n",
    "    \n",
    "def printSpiral(n):\n",
    "    matrix = []\n",
    "    for i in range(0, n):\n",
    "        matrix.append([])\n",
    "    \n",
    "    val = 1\n",
    "    i = 0\n",
    "    j = 0\n",
    "    limit = n-1\n",
    "    \n",
    "    direction = Direction.RIGHT\n",
    "    while i <= n**2:\n",
    "        if direction == Direction.RIGHT:\n",
    "            matrix[i][j] = val\n",
    "            if j == n-1:\n",
    "                direction = Direction.DOWN\n",
    "                i += 1 # move down\n",
    "            else:\n",
    "                j += 1 # move to right \n",
    "        \n",
    "        elif direction == Direction.DOWN:\n",
    "            matrix[i][j] = val\n",
    "            if i == n-1:\n",
    "                direction = Direction\n",
    "            \n",
    "        val += 1\n",
    "        "
   ]
  },
  {
   "cell_type": "markdown",
   "metadata": {
    "collapsed": true
   },
   "source": [
    "### Look and Say Sequence"
   ]
  },
  {
   "cell_type": "code",
   "execution_count": 2,
   "metadata": {},
   "outputs": [],
   "source": [
    "def printLookAndSaySequence(n):\n",
    "    if n == 0: return None\n",
    "    if n == 1: return [1]\n",
    "    \n",
    "    ans = [\"1\"]\n",
    "    \n",
    "    for j in range(1, n):\n",
    "        prev_value = ans[-1]\n",
    "        \n",
    "        new_value = []\n",
    "        \n",
    "        count = 1\n",
    "        value = prev_value[0]\n",
    "        for i in prev_value[1:]:\n",
    "            if i == value:\n",
    "                count += 1\n",
    "            else:\n",
    "                new_value.append(count)\n",
    "                new_value.append(value)\n",
    "                count = 1\n",
    "                value = i\n",
    "                \n",
    "        new_value.append(count)\n",
    "        new_value.append(value)\n",
    "        \n",
    "        ans.append(''.join([str(i) for i in new_value]))\n",
    "    \n",
    "    return ans"
   ]
  },
  {
   "cell_type": "code",
   "execution_count": 8,
   "metadata": {},
   "outputs": [
    {
     "name": "stdout",
     "output_type": "stream",
     "text": [
      "1\n",
      "11\n",
      "21\n",
      "1211\n",
      "111221\n",
      "312211\n",
      "13112221\n",
      "1113213211\n",
      "31131211131221\n",
      "13211311123113112211\n"
     ]
    }
   ],
   "source": [
    "for i in printLookAndSaySequence(10):\n",
    "    print(i)"
   ]
  },
  {
   "cell_type": "markdown",
   "metadata": {},
   "source": [
    "###  Edit Distance"
   ]
  },
  {
   "cell_type": "code",
   "execution_count": 23,
   "metadata": {},
   "outputs": [],
   "source": [
    "def isOneEditApart(s1, s2):\n",
    "    if s1 == None or s2 == None: return False\n",
    "    if s1 == s2: return False\n",
    "    \n",
    "    s1 = s1.lower()\n",
    "    s2 = s2.lower()\n",
    "    \n",
    "    set1 = set(s1)\n",
    "    set2 = set(s2)\n",
    "    \n",
    "    if abs(len(s1) - len(s2)) > 1: return False\n",
    "    \n",
    "    different_values = set1.symmetric_difference(set2)\n",
    "    \n",
    "    if len(different_values) > 2: return False\n",
    "    if len(different_values) == 0: return False\n",
    "    \n",
    "    return True"
   ]
  },
  {
   "cell_type": "code",
   "execution_count": 24,
   "metadata": {},
   "outputs": [],
   "source": [
    "assert not isOneEditApart(\"cat\", \"dog\")\n",
    "assert isOneEditApart(\"cat\", \"cats\")\n",
    "assert isOneEditApart(\"cat\", \"cut\")\n",
    "assert isOneEditApart(\"cat\", \"cast\")\n",
    "assert isOneEditApart(\"cat\", \"at\")\n",
    "assert not isOneEditApart(\"cat\", \"act\")"
   ]
  },
  {
   "cell_type": "code",
   "execution_count": null,
   "metadata": {},
   "outputs": [],
   "source": []
  }
 ],
 "metadata": {
  "kernelspec": {
   "display_name": "Python 3",
   "language": "python",
   "name": "python3"
  },
  "language_info": {
   "codemirror_mode": {
    "name": "ipython",
    "version": 3
   },
   "file_extension": ".py",
   "mimetype": "text/x-python",
   "name": "python",
   "nbconvert_exporter": "python",
   "pygments_lexer": "ipython3",
   "version": "3.5.2"
  }
 },
 "nbformat": 4,
 "nbformat_minor": 2
}
