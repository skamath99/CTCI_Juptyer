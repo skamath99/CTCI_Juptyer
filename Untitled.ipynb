{
 "cells": [
  {
   "cell_type": "code",
   "execution_count": 5,
   "metadata": {},
   "outputs": [],
   "source": [
    "from enum import Enum\n",
    "class Direction(Enum):\n",
    "    UP = 1\n",
    "    DOWN = 2\n",
    "    RIGHT = 3\n",
    "    LEFT = 4\n",
    "    \n",
    "def printSpiral(n):\n",
    "    matrix = []\n",
    "    for i in range(0, n):\n",
    "        matrix.append([])\n",
    "    \n",
    "    val = 1\n",
    "    i = 0\n",
    "    j = 0\n",
    "    limit = n-1\n",
    "    \n",
    "    direction = Direction.RIGHT\n",
    "    while i <= n**2:\n",
    "        if direction == Direction.RIGHT:\n",
    "            matrix[i][j] = val\n",
    "            if j == n-1:\n",
    "                direction = Direction.DOWN\n",
    "                i += 1 # move down\n",
    "            else:\n",
    "                j += 1 # move to right \n",
    "        \n",
    "        elif direction == Direction.DOWN:\n",
    "            matrix[i][j] = val\n",
    "            if i == n-1:\n",
    "                direction = Direction\n",
    "            \n",
    "        val += 1\n",
    "        "
   ]
  },
  {
   "cell_type": "code",
   "execution_count": null,
   "metadata": {
    "collapsed": true
   },
   "outputs": [],
   "source": []
  }
 ],
 "metadata": {
  "kernelspec": {
   "display_name": "Python 3",
   "language": "python",
   "name": "python3"
  },
  "language_info": {
   "codemirror_mode": {
    "name": "ipython",
    "version": 3
   },
   "file_extension": ".py",
   "mimetype": "text/x-python",
   "name": "python",
   "nbconvert_exporter": "python",
   "pygments_lexer": "ipython3",
   "version": "3.6.2"
  }
 },
 "nbformat": 4,
 "nbformat_minor": 2
}
