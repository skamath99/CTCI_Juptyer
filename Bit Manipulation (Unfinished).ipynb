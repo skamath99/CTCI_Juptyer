{
 "cells": [
  {
   "cell_type": "markdown",
   "metadata": {},
   "source": [
    "#### 5.1 Insertion: You are given two 32-bit numbers, N and M, and two bit positions, i and j. Write a method to insert M into N such that M starts at bit j and ends at bit i. You can assume that the bits j through i have enough space to fit all of M."
   ]
  },
  {
   "cell_type": "code",
   "execution_count": 55,
   "metadata": {},
   "outputs": [],
   "source": [
    "def bitInsertion(N, M, i, j):\n",
    "    # Create all ones\n",
    "    all_ones = ~0\n",
    "    \n",
    "    #Want all ones before j position\n",
    "    left_side = all_ones << (j+1)\n",
    "    \n",
    "    #Want all ones before i\n",
    "    right_side = (1 << i) -1\n",
    "    \n",
    "    mask = left_side | right_side\n",
    "    n_cleared = N & mask\n",
    "    m_shifted = M << i\n",
    "    \n",
    "    return n_cleared | m_shifted\n",
    "\n",
    "ans = bitInsertion(512, 19, 2, 6) #int('1000000000', 2), int('10011', 2)"
   ]
  },
  {
   "cell_type": "code",
   "execution_count": 56,
   "metadata": {},
   "outputs": [
    {
     "name": "stdout",
     "output_type": "stream",
     "text": [
      "0b1000000000\n",
      "0b10011\n",
      "0b1001001100\n"
     ]
    }
   ],
   "source": [
    "print(bin(512))\n",
    "print(bin(19))\n",
    "print(bin(ans))"
   ]
  },
  {
   "cell_type": "code",
   "execution_count": 57,
   "metadata": {},
   "outputs": [],
   "source": [
    "def bitInsertion(N, M, i, j):\n",
    "    numberOfOnes = j - i + 1\n",
    "    s = \"1\"*numberOfOnes\n",
    "    mask = ~(int(s, 2) << i)\n",
    "    new_N = N & mask\n",
    "    final_val = N | (M << i)\n",
    "    return final_val\n",
    "ans = bitInsertion(512, 19, 2, 6) #int('1000000000', 2), int('10011', 2)"
   ]
  },
  {
   "cell_type": "code",
   "execution_count": 51,
   "metadata": {},
   "outputs": [
    {
     "name": "stdout",
     "output_type": "stream",
     "text": [
      "0b1000000000\n",
      "0b10011\n",
      "0b1001001100\n"
     ]
    }
   ],
   "source": [
    "print(bin(512))\n",
    "print(bin(19))\n",
    "print(bin(ans))"
   ]
  },
  {
   "cell_type": "markdown",
   "metadata": {},
   "source": [
    "#### 5.2 Binary to String: Given a real number between 0 and 1 (e.g., 0.72) that is passed in as a double, print the binary representation. If the number cannot be represented accurately in binary with at most 32 characters, print \"ERROR\"."
   ]
  },
  {
   "cell_type": "code",
   "execution_count": 65,
   "metadata": {
    "collapsed": true
   },
   "outputs": [],
   "source": [
    "def printBinary(x):\n",
    "    ans = []\n",
    "    i = 1\n",
    "    while i < 33:\n",
    "        if x >= 1/2**i:\n",
    "            x -= 1/2**i\n",
    "            ans.append(\"1\")\n",
    "        else:\n",
    "            ans.append(\"0\")\n",
    "        i += 1\n",
    "    if x != 0:\n",
    "        print(\"ERROR\")\n",
    "    else:\n",
    "        print(''.join(ans))"
   ]
  },
  {
   "cell_type": "code",
   "execution_count": 72,
   "metadata": {},
   "outputs": [
    {
     "name": "stdout",
     "output_type": "stream",
     "text": [
      "00001100000000000000000000000000\n"
     ]
    }
   ],
   "source": [
    "printBinary(0.1875/4)"
   ]
  },
  {
   "cell_type": "code",
   "execution_count": 69,
   "metadata": {},
   "outputs": [
    {
     "data": {
      "text/plain": [
       "0.1875"
      ]
     },
     "execution_count": 69,
     "metadata": {},
     "output_type": "execute_result"
    }
   ],
   "source": [
    "1/2**3 + 1/2**4"
   ]
  },
  {
   "cell_type": "markdown",
   "metadata": {},
   "source": [
    "#### 5.3 Flip Bit:"
   ]
  },
  {
   "cell_type": "code",
   "execution_count": 96,
   "metadata": {
    "collapsed": true
   },
   "outputs": [],
   "source": [
    "def getLongestSequenceOfOnes(x):\n",
    "    ones = []\n",
    "    count = 0\n",
    "    while x != 0:\n",
    "        if (x&1) == 1:\n",
    "            count += 1\n",
    "        else:\n",
    "            ones.append(count)\n",
    "            count = 0\n",
    "        x  = x >> 1\n",
    "    ones.append(count)\n",
    "    \n",
    "    ans = 0\n",
    "    for i in range(1, len(ones)):\n",
    "        potential_sum= ones[i] + ones[i-1]\n",
    "        if (potential_sum > ans):\n",
    "            ans = potential_sum\n",
    "    return ans+1\n",
    "getLongestSequenceOfOnes(1775)"
   ]
  },
  {
   "cell_type": "markdown",
   "metadata": {},
   "source": [
    "<font color='red'>You forgot the edge case where there could be two zeros</font>"
   ]
  },
  {
   "cell_type": "code",
   "execution_count": null,
   "metadata": {
    "collapsed": true
   },
   "outputs": [],
   "source": []
  }
 ],
 "metadata": {
  "kernelspec": {
   "display_name": "Python 3",
   "language": "python",
   "name": "python3"
  },
  "language_info": {
   "codemirror_mode": {
    "name": "ipython",
    "version": 3
   },
   "file_extension": ".py",
   "mimetype": "text/x-python",
   "name": "python",
   "nbconvert_exporter": "python",
   "pygments_lexer": "ipython3",
   "version": "3.6.2"
  }
 },
 "nbformat": 4,
 "nbformat_minor": 2
}
