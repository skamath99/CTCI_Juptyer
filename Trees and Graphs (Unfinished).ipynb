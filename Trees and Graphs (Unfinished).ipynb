{
 "cells": [
  {
   "cell_type": "code",
   "execution_count": 1,
   "metadata": {
    "collapsed": true
   },
   "outputs": [],
   "source": [
    "class Graph:\n",
    "    def __init__(self, nodes):\n",
    "        self.nodes = nodes\n",
    "        \n",
    "class DoubleLinkedNode:\n",
    "    def __init__(self, name):\n",
    "        self.name = name\n",
    "        self.children = set()\n",
    "        self.parents = set()\n",
    "        \n",
    "class SinglyLinkedList:\n",
    "    def __init__(self, head):\n",
    "        self.head = head\n",
    "        \n",
    "    def __repr__(self):\n",
    "        s = []\n",
    "        s.append(self.head.data)\n",
    "        n = self.head\n",
    "        while n.next != None:\n",
    "            n = n.next\n",
    "            s.append(n.data)\n",
    "        return ', '.join([str(i) for i in s])\n",
    "    \n",
    "    def __str__(self):\n",
    "        return self.__repr__()\n",
    "    \n",
    "    def toList(self):\n",
    "        return [int(i) for i in self.__repr__().split(', ')]\n",
    "    \n",
    "class Node:\n",
    "    def __init__(self, name):\n",
    "        self.name = name\n",
    "        self.children = []\n",
    "        \n",
    "    def addChildren(self, x):\n",
    "        self.children = self.children + x\n",
    "        \n",
    "class SingleNode:\n",
    "    def __init__(self, data):\n",
    "        self.data = data\n",
    "        self.next = None\n",
    "        \n",
    "class BinaryNode:\n",
    "    def __init__(self, data):\n",
    "        self.data = data\n",
    "        self.left = None\n",
    "        self.right = None\n",
    "        \n",
    "    def printInOrderTraversal(self):\n",
    "        print(self.inOrderTraversal(self))\n",
    "    \n",
    "    def inOrderTraversal(self, root):\n",
    "        res = []\n",
    "        if root:\n",
    "            res = self.inOrderTraversal(root.left) \n",
    "            res.append(root.data)\n",
    "            res = res + self.inOrderTraversal(root.right)\n",
    "        return res"
   ]
  },
  {
   "cell_type": "code",
   "execution_count": 2,
   "metadata": {
    "collapsed": true
   },
   "outputs": [],
   "source": [
    "from collections import defaultdict\n",
    "##Creates ddirected graph on ctci page 106\n",
    "def createDirectedGraph() :\n",
    "    zero = Node(0)\n",
    "    one = Node(1)\n",
    "    two = Node(2)\n",
    "    three = Node(3)\n",
    "    four = Node(4)\n",
    "    five = Node(5)\n",
    "    six = Node(6)\n",
    "    \n",
    "    unconnected = Node(99)\n",
    "    \n",
    "    zero.addChildren([one])\n",
    "    one.addChildren([two])\n",
    "    two.addChildren([zero, three])\n",
    "    three.addChildren([two])\n",
    "    four.addChildren([six])\n",
    "    six.addChildren([five])\n",
    "    five.addChildren([four])\n",
    "    \n",
    "    ## Single Line\n",
    "    seven = Node(7)\n",
    "    eight = Node(8)\n",
    "    nine = Node(9)\n",
    "    seven.addChildren([eight])\n",
    "    eight.addChildren([nine])\n",
    "    \n",
    "    nodes = [\n",
    "        zero, \n",
    "        one, \n",
    "        two, \n",
    "        three, \n",
    "        four, \n",
    "        five, \n",
    "        six,\n",
    "        seven,\n",
    "        eight,\n",
    "        nine,\n",
    "        unconnected\n",
    "    ]\n",
    "    d = {}\n",
    "    for i in nodes:\n",
    "        d[i.name] = i\n",
    "    \n",
    "    return Graph(d)\n",
    "\n",
    "def printTree(node):\n",
    "    queue = deque()\n",
    "    queue.appendleft(node)\n",
    "    node.level = 0\n",
    "    \n",
    "    vals = defaultdict(list)\n",
    "    while (len(queue) != 0):\n",
    "        currentNode = queue.pop()\n",
    "        \n",
    "        if currentNode.data != None:\n",
    "            vals[currentNode.level].append(currentNode.data)\n",
    "\n",
    "            if currentNode.left != None:\n",
    "                currentNode.left.level = currentNode.level + 1\n",
    "                queue.appendleft(currentNode.left)\n",
    "            else:\n",
    "                b = BinaryNode(None)\n",
    "                b.level = currentNode.level + 1\n",
    "                queue.appendleft(b)\n",
    "\n",
    "            if currentNode.right != None:\n",
    "                currentNode.right.level = currentNode.level + 1\n",
    "                queue.appendleft(currentNode.right)\n",
    "            else:\n",
    "                b = BinaryNode(None)\n",
    "                b.level = currentNode.level + 1\n",
    "                queue.appendleft(b)\n",
    "        else:\n",
    "            vals[currentNode.level].append(\"_\")\n",
    "            \n",
    "    for i in range(0, max(vals.keys())+1):\n",
    "        print(' '*(max(vals.keys())-i), end='')\n",
    "        print(' '.join([str(i) for i in vals[i]]))"
   ]
  },
  {
   "cell_type": "markdown",
   "metadata": {},
   "source": [
    "#### 4.1 Route Between Nodes: Given a directed graph, design an algorithm to find out whether there is a route between two nodes.\n",
    "<font color='red'>I tested whether there would be a connection</font>"
   ]
  },
  {
   "cell_type": "code",
   "execution_count": 3,
   "metadata": {
    "collapsed": true
   },
   "outputs": [],
   "source": [
    "from collections import deque\n",
    "def isThereConnection(node1, node2):\n",
    "    if node1 == None: return False\n",
    "    if node2 == None: return False\n",
    "    \n",
    "    nodesInQueue = set()\n",
    "    queue1 = deque()\n",
    "    \n",
    "    ## Add the root node to the left of the queue\n",
    "    queue1.appendleft(node1)\n",
    "    nodesInQueue.add(node1)\n",
    "    \n",
    "    while (len(queue1) != 0):\n",
    "        # Look at last node in queue - remove from queue\n",
    "        currentNode = queue1.pop()\n",
    "    \n",
    "        #visit the node\n",
    "        if currentNode == node2: return True\n",
    "        \n",
    "        #Add children to queue\n",
    "        for node in currentNode.children:\n",
    "            if node not in nodesInQueue:\n",
    "                nodesInQueue.add(node)\n",
    "                queue1.appendleft(node)\n",
    "                \n",
    "    nodesInQueue = set()\n",
    "    queue2 = deque()\n",
    "    \n",
    "    queue2.appendleft(node2)\n",
    "    nodesInQueue.add(node2)\n",
    "    \n",
    "    while(len(queue2) != 0) :\n",
    "        currentNode = queue2.pop()\n",
    "        if currentNode == node1: return True\n",
    "        \n",
    "        for node in currentNode.children:\n",
    "            if node not in nodesInQueue:\n",
    "                nodesInQueue.add(node)\n",
    "                queue2.appendleft(node)\n",
    "                \n",
    "    return False\n",
    "\n",
    "\n",
    "def shouldConnect(node1, node2):\n",
    "    message = \"Node {0} and Node {1} should connect\".format(node1.name, node2.name)\n",
    "    assert isThereConnection(node1, node2), message\n",
    "    \n",
    "def shouldNotConnect(node1, node2):\n",
    "    message = \"Node {0} and Node {1} should not connect\".format(node1.name, node2.name)\n",
    "    assert not isThereConnection(node1, node2), message\n",
    "    \n",
    "graph = createDirectedGraph()\n",
    "\n",
    "\n",
    "shouldConnect(graph.nodes[0], graph.nodes[1])\n",
    "shouldNotConnect(graph.nodes[0], graph.nodes[6])\n",
    "shouldNotConnect(graph.nodes[3], graph.nodes[5])\n",
    "shouldConnect(graph.nodes[6], graph.nodes[6])\n",
    "shouldNotConnect(graph.nodes[99], graph.nodes[5])\n",
    "shouldConnect(graph.nodes[99], graph.nodes[99])\n",
    "shouldConnect(graph.nodes[9], graph.nodes[7])"
   ]
  },
  {
   "cell_type": "markdown",
   "metadata": {},
   "source": [
    "I used breadth first search on Node1 then on Node2 to determine whether there was a connection or not. \n",
    "This operation is roughly O(k^d) where k is the number of children and d is the \"depth\" between 1 and 2."
   ]
  },
  {
   "cell_type": "markdown",
   "metadata": {},
   "source": [
    "#### 4.2 Minimal tree: Given a sorted (increasing order) array with unique integer elements write an algorithm to create a binary search tree with minimal height"
   ]
  },
  {
   "cell_type": "code",
   "execution_count": 4,
   "metadata": {},
   "outputs": [
    {
     "name": "stdout",
     "output_type": "stream",
     "text": [
      "[1, 2, 3, 4, 5, 6, 7, 8, 9, 10, 11, 12]\n",
      "    7\n",
      "   4 10\n",
      "  2 6 9 12\n",
      " 1 3 5 _ 8 _ 11 _\n",
      "_ _ _ _ _ _ _ _ _ _\n"
     ]
    }
   ],
   "source": [
    "def buildSmallTree(xList):\n",
    "    if len(xList) == 1:\n",
    "        return BinaryNode(xList[0])\n",
    "    elif len(xList) == 0:\n",
    "        return None\n",
    "    else:\n",
    "        list_length = len(xList)\n",
    "        \n",
    "        root_val = None\n",
    "        left = None\n",
    "        right = None\n",
    "\n",
    "        if  list_length % 2 == 0:\n",
    "            root_val = xList[list_length//2]\n",
    "            left = xList[:list_length//2]\n",
    "            right = xList[list_length//2+1:]\n",
    "        else:\n",
    "            root_val = xList[list_length//2]\n",
    "            left = xList[:list_length//2]\n",
    "            right = xList[list_length//2+1:]\n",
    "                    \n",
    "        root_node = BinaryNode(root_val)\n",
    "        left_node = buildSmallTree(left)\n",
    "        right_node = buildSmallTree(right)\n",
    "        \n",
    "        root_node.left = left_node\n",
    "        root_node.right = right_node\n",
    "        \n",
    "        return root_node\n",
    "    \n",
    "b = buildSmallTree([1,2,3,4,5,6,7,8,9,10,11,12])\n",
    "b.printInOrderTraversal()\n",
    "printTree(b)"
   ]
  },
  {
   "cell_type": "markdown",
   "metadata": {},
   "source": [
    "#### 4.3 List of Depths: Given a binary tree, design an algorithm which creates a linked list of all the nodes at each depth"
   ]
  },
  {
   "cell_type": "code",
   "execution_count": 5,
   "metadata": {},
   "outputs": [
    {
     "name": "stdout",
     "output_type": "stream",
     "text": [
      "[7]\n",
      "[4, 10]\n",
      "[2, 6, 9, 12]\n",
      "[1, 3, 5, 8, 11]\n"
     ]
    }
   ],
   "source": [
    "def returnListOfLinkedLists(node):\n",
    "    queue = deque()\n",
    "    queue.appendleft(node)\n",
    "    node.level = 0\n",
    "    \n",
    "    vals = defaultdict(list)\n",
    "    while (len(queue) != 0):\n",
    "        currentNode = queue.pop()\n",
    "        vals[currentNode.level].append(currentNode.data)\n",
    "        \n",
    "        if currentNode.left != None:\n",
    "            currentNode.left.level = currentNode.level + 1\n",
    "            queue.appendleft(currentNode.left)\n",
    "            \n",
    "        if currentNode.right != None:\n",
    "            currentNode.right.level = currentNode.level + 1\n",
    "            queue.appendleft(currentNode.right)\n",
    "        \n",
    "    ans = []\n",
    "    for i in range(0, max(vals.keys())+1):\n",
    "        head = SingleNode(vals[i][0])\n",
    "        currentNode = head\n",
    "        for j in vals[i][1:]:\n",
    "            currentNode.next = SingleNode(j)\n",
    "            currentNode = currentNode.next\n",
    "        ans.append(SinglyLinkedList(head))\n",
    "    \n",
    "    return ans\n",
    "        \n",
    "a = buildSmallTree([1,2,3,4,5,6,7,8,9,10,11,12])\n",
    "b = returnListOfLinkedLists(a)\n",
    "for i in b:\n",
    "    print(i.toList())"
   ]
  },
  {
   "cell_type": "markdown",
   "metadata": {},
   "source": [
    "<font color='red'>What is the Time Complextiy and Space Complexity of this</font>"
   ]
  },
  {
   "cell_type": "markdown",
   "metadata": {
    "collapsed": true
   },
   "source": [
    "#### 4.4 Check Balanced: Implement a function to check if a binary tree is balanced. <br>\n",
    "For the purpose of ths question, a balanced tree is defined to be a tree such that the heights of the two subtrees of any node nevr differ by more than one. "
   ]
  },
  {
   "cell_type": "code",
   "execution_count": 6,
   "metadata": {
    "collapsed": true
   },
   "outputs": [],
   "source": [
    "def compareSubTrees(node):\n",
    "    if node == None: return 0\n",
    "    \n",
    "    left_size = compareSubTrees(node.left)\n",
    "    right_size = compareSubTrees(node.right)\n",
    "    \n",
    "    #print(\"Current: {0}. Left {1} Right{2}\".format(node.data, left_size, right_size))\n",
    "        \n",
    "    if abs(left_size-right_size) > 1: raise Exception\n",
    "    \n",
    "    return max(left_size, right_size) + 1\n",
    "\n",
    "root = BinaryNode(1)\n",
    "l = BinaryNode(2)\n",
    "r = BinaryNode(3)\n",
    "\n",
    "root.left = l\n",
    "root.right = r\n",
    "root.left.left = BinaryNode(4)\n",
    "\n",
    "assert 3 == compareSubTrees(root), \"Should pass\"\n",
    "\n",
    "root.right.left = BinaryNode(5)\n",
    "assert 3 == compareSubTrees(root), \"Should pass\"\n",
    "\n",
    "root.right.left.right = BinaryNode(6)\n",
    "\n",
    "try: \n",
    "    compareSubTrees(root)\n",
    "    assert not True, \"Should fail!\"\n",
    "except:\n",
    "    assert True, \"failed\""
   ]
  },
  {
   "cell_type": "markdown",
   "metadata": {},
   "source": [
    "This is an O(N) solution. You did throw an exception though - not sure if that's best programming practice. <br>\n",
    "Wow the solution in CTCI passes back an error code (Integer.MIN_VALUE). "
   ]
  },
  {
   "cell_type": "markdown",
   "metadata": {},
   "source": [
    "#### 4.5 Validate BST: Implement a function to check if a binary tree is a binary search tree. "
   ]
  },
  {
   "cell_type": "code",
   "execution_count": 7,
   "metadata": {
    "collapsed": true
   },
   "outputs": [],
   "source": [
    "class MinMax:\n",
    "    def __init__(self, m, M):\n",
    "        self.min = m\n",
    "        self.max = M\n",
    "        \n",
    "    def isMaximumSmallerThan(self, currentValue):\n",
    "        if self.max == None:\n",
    "            return True\n",
    "        else:\n",
    "            return self.max < currentValue\n",
    "        \n",
    "    def isMinimumLargerThan(self, currentValue):\n",
    "        if self.min == None:\n",
    "            return True\n",
    "        else:\n",
    "            return self.min > currentValue\n",
    "\n",
    "def isBinarySearchTree(node):\n",
    "    if node == None: return MinMax(None, None) \n",
    "    \n",
    "    left_side = isBinarySearchTree(node.left)\n",
    "    right_side = isBinarySearchTree(node.right)\n",
    "    \n",
    "    valid_left = left_side.isMaximumSmallerThan(node.data)\n",
    "    valid_right = right_side.isMinimumLargerThan(node.data)\n",
    "    \n",
    "    if valid_left and valid_right:\n",
    "        m = min([i for i in [left_side.min, node.data, right_side.min] if i != None])\n",
    "        M = max([i for i in [left_side.max, node.data, right_side.max] if i != None])\n",
    "        return MinMax(m, M)\n",
    "    else:\n",
    "        raise Exception\n",
    "    \n",
    "    \n",
    "    \n",
    "root_binary_tree = BinaryNode(5)\n",
    "root_binary_tree.left = BinaryNode(4)\n",
    "root_binary_tree.right = BinaryNode(6)\n",
    "\n",
    "assert isBinarySearchTree(root_binary_tree), \"Should be a binary search tree!\"\n",
    "\n",
    "not_binary_tree = BinaryNode(5)\n",
    "not_binary_tree.left = BinaryNode(4)\n",
    "not_binary_tree.left.right = BinaryNode(7)\n",
    "not_binary_tree.right = BinaryNode(6)\n",
    "\n",
    "try:\n",
    "    isBinarySearchTree(not_binary_tree)\n",
    "    assert False, \"Should've failed\"\n",
    "except:\n",
    "    assert True, \"Passed\""
   ]
  },
  {
   "cell_type": "markdown",
   "metadata": {},
   "source": [
    "This works but you're throwing an exception. Try it without throwing an exception?"
   ]
  },
  {
   "cell_type": "code",
   "execution_count": 8,
   "metadata": {
    "collapsed": true
   },
   "outputs": [],
   "source": [
    "def isBinarySearchTree(node, m, M):\n",
    "    if node == None: return True\n",
    "    \n",
    "    valid_left = isBinarySearchTree(node.left, m, node.data)\n",
    "    valid_right = isBinarySearchTree(node.right, node.data, M)\n",
    "    \n",
    "#    print(\"Current Value {0} should be between {1} and {2}\".format(node.data, m, M))\n",
    "    \n",
    "    if valid_left and valid_right:\n",
    "        greater_than_min = True if m == None else m <= node.data\n",
    "        less_than_max = True if M == None else node.data < M\n",
    "        return greater_than_min and less_than_max\n",
    "    else:\n",
    "        return False\n",
    "    \n",
    "root_binary_tree = BinaryNode(5)\n",
    "root_binary_tree.left = BinaryNode(4)\n",
    "root_binary_tree.right = BinaryNode(6)\n",
    "\n",
    "assert isBinarySearchTree(root_binary_tree, None, None), \"Should be a binary search tree!\"\n",
    "\n",
    "not_binary_tree = BinaryNode(5)\n",
    "not_binary_tree.left = BinaryNode(4)\n",
    "not_binary_tree.left.right = BinaryNode(7)\n",
    "not_binary_tree.right = BinaryNode(6)\n",
    "\n",
    "assert not isBinarySearchTree(not_binary_tree, None, None), \"Should not be a binary search tree!\"\n",
    "\n",
    "root_binary_tree1 = BinaryNode(5)\n",
    "root_binary_tree1.left = BinaryNode(3)\n",
    "root_binary_tree1.left.right = BinaryNode(4)\n",
    "root_binary_tree1.right = BinaryNode(7)\n",
    "root_binary_tree1.right.left = BinaryNode(6)\n",
    "\n",
    "assert isBinarySearchTree(root_binary_tree1, None, None), \"Should be a binary search tree!\""
   ]
  },
  {
   "cell_type": "markdown",
   "metadata": {},
   "source": [
    "#### 4.6 Successor: Write an algorithm to find the \"next\" node (i.e, in-order successor) of a given node in a binary search tree. <br> \n",
    "You may assume that each node has a link to its parent. "
   ]
  },
  {
   "cell_type": "code",
   "execution_count": null,
   "metadata": {
    "collapsed": true
   },
   "outputs": [],
   "source": []
  },
  {
   "cell_type": "markdown",
   "metadata": {},
   "source": [
    "#### 4.7 Build Order: You are given a list of projects and a list of dependencies (which is a list of pairs of projects, where the second project is dependent on the first project). All of a project's dependencies must be built before the project is. Find a build order that will allow the projects to be buil. If there is no valid build order, return an error. <br>\n",
    "\n",
    "Input:\n",
    " - Projects: a, b, c, d, e, f\n",
    " - Dependencies: (a,d), (f,b), (b,d), (f,a), (d,c) <br>\n",
    "Output: f, e, a, b, d, c"
   ]
  },
  {
   "cell_type": "code",
   "execution_count": 9,
   "metadata": {},
   "outputs": [
    {
     "name": "stdout",
     "output_type": "stream",
     "text": [
      "['f', 'e', 'b', 'a', 'd', 'c']\n",
      "['f', 'd', 'c', 'b', 'g', 'a', 'e']\n"
     ]
    }
   ],
   "source": [
    "from collections import defaultdict\n",
    "def getBuildOrder(projects, dependencies):\n",
    "    \n",
    "    projectMap = {}\n",
    "    for i in projects:\n",
    "        projectMap[i] = DoubleLinkedNode(i)\n",
    "        \n",
    "    for dependency in dependencies:\n",
    "        project1 = projectMap[dependency[0]]\n",
    "        project2 = projectMap[dependency[1]]\n",
    "        \n",
    "        project1.children.add(project2)\n",
    "        project2.parents.add(project1)\n",
    "        \n",
    "    nodes = set(projectMap.values())\n",
    "    ans = []\n",
    "    \n",
    "    # You are doing this d times. d is number of dependencies.\n",
    "    while len(nodes) != 0: \n",
    "        no_dependencies = []\n",
    "        \n",
    "        for node in nodes:\n",
    "            if len(node.parents) == 0:\n",
    "                no_dependencies.append(node)\n",
    "        \n",
    "        if len(no_dependencies) == 0: raise Exception\n",
    "        ans += [i.name for i in no_dependencies]\n",
    "        for node in no_dependencies:\n",
    "            nodes.remove(node)\n",
    "            for child in node.children:\n",
    "                child.parents.remove(node)\n",
    "                \n",
    "    return ans\n",
    "    \n",
    "\n",
    "print(getBuildOrder(['a', 'b', 'c', 'd', 'e', 'f'], [['a', 'd'], ['f', 'b'], ['b', 'd'], ['f', 'a'], ['d', 'c']]))\n",
    "\n",
    "projects = ['a', 'b', 'c', 'd', 'e', 'f', 'g']\n",
    "dependencies = [\n",
    "    ['f','c'],\n",
    "    ['f', 'b'],\n",
    "    ['f', 'a'],\n",
    "    ['c', 'a'],\n",
    "    ['b', 'a'],\n",
    "    ['a', 'e'],\n",
    "    ['b', 'e'],\n",
    "    ['d', 'g']\n",
    "]\n",
    "print(getBuildOrder(projects, dependencies))"
   ]
  },
  {
   "cell_type": "markdown",
   "metadata": {
    "collapsed": true
   },
   "source": [
    "#### 4.8 First Common Ancestor: Design an algorithm and write code to find the first common ancestor of two nodes in a binary tree. Avoid storing additional nodes in a data structure. <br>\n",
    "NOTE: This is not necessarily a binary search tree"
   ]
  },
  {
   "cell_type": "code",
   "execution_count": null,
   "metadata": {
    "collapsed": true
   },
   "outputs": [],
   "source": [
    "def getFirstCommonAncestor(tree, node1, node2):\n",
    "    "
   ]
  },
  {
   "cell_type": "code",
   "execution_count": 17,
   "metadata": {},
   "outputs": [
    {
     "data": {
      "text/plain": [
       "<__main__.BinaryNode at 0x1083e6198>"
      ]
     },
     "execution_count": 17,
     "metadata": {},
     "output_type": "execute_result"
    }
   ],
   "source": []
  },
  {
   "cell_type": "markdown",
   "metadata": {},
   "source": [
    "#### 4.10 Check Subtree: T1 and T2 are two very large binary trees, with T1 much bigger than T2. Create an algorith to determine if T2 is a subtree of T1. "
   ]
  },
  {
   "cell_type": "code",
   "execution_count": 40,
   "metadata": {},
   "outputs": [],
   "source": [
    "def getNodeInTree(node, desired_node):\n",
    "    if node == None: return []\n",
    "    if node.data == desired_node.data: return [node]\n",
    "    \n",
    "    left_side = getNodeInTree(node.left, desired_node)\n",
    "    right_side = getNodeInTree(node.right, desired_node)\n",
    "    left_side.extend(right_side)\n",
    "    return left_side\n",
    "\n",
    "def compareTrees(node1, node2):\n",
    "    if node1 == None and node2 != None: return False\n",
    "    if node2 == None and node1 != None: return False\n",
    "    if node2 == None and node1 == None: return True\n",
    "    \n",
    "    if node1.data == node2.data:\n",
    "        return compareTrees(node1.left, node2.left) and compareTrees(node1.right, node2.right)\n",
    "    else:\n",
    "        return False\n",
    "    \n",
    "def isSubtree(tree, subtree):\n",
    "    if subtree == None or tree == None: return False\n",
    "    \n",
    "    root_nodes = getNodeInTree(tree, subtree) # There might be multiple nodes that match. \n",
    "    if len(root_nodes) != 0:\n",
    "        for root_node in root_nodes:\n",
    "            if compareTrees(root_node, subtree):\n",
    "                return True\n",
    "        return False\n",
    "    else:\n",
    "        return False\n",
    "    \n",
    "a = BinaryNode(1)\n",
    "b = BinaryNode(2)\n",
    "c = BinaryNode(3)\n",
    "d = BinaryNode(4)\n",
    "e = BinaryNode(5)\n",
    "f = BinaryNode(6)\n",
    "g = BinaryNode(7)\n",
    "h = BinaryNode(8)\n",
    "\n",
    "d2 = BinaryNode(4)\n",
    "d3 = BinaryNode(99)\n",
    "d4 = BinaryNode(100)\n",
    "d2.left = d3\n",
    "d2.right = d4\n",
    "\n",
    "f.left = d2\n",
    "\n",
    "\n",
    "\n",
    "a.left = b\n",
    "a.right = c\n",
    "b.left = d\n",
    "d.left = g\n",
    "d.right = h\n",
    "c.left = e\n",
    "c.right = f\n",
    "\n",
    "unrelated = BinaryNode(5)\n",
    "unrelated_a = BinaryNode(21)\n",
    "unrelated_b = BinaryNode(234)\n",
    "unrelated.left = unrelated_a\n",
    "unrelated.right = unrelated_b\n",
    "\n",
    "assert isSubtree(a, e), \"Should be subtree\"\n",
    "assert isSubtree(a, g), \"Should be subtree\"\n",
    "assert isSubtree(a, c), \"Should be subtree\"\n",
    "assert isSubtree(a, d), \"Should be subtree\"\n",
    "assert not isSubtree(a, unrelated), \"Should not be subtree\""
   ]
  },
  {
   "cell_type": "markdown",
   "metadata": {},
   "source": [
    "This runs O(N+M). Where N is number of elements in tree and M is number of elements in subtree."
   ]
  },
  {
   "cell_type": "code",
   "execution_count": 25,
   "metadata": {},
   "outputs": [],
   "source": [
    "a = []\n",
    "a.extend([4,5])"
   ]
  },
  {
   "cell_type": "code",
   "execution_count": 26,
   "metadata": {},
   "outputs": [
    {
     "data": {
      "text/plain": [
       "[4, 5]"
      ]
     },
     "execution_count": 26,
     "metadata": {},
     "output_type": "execute_result"
    }
   ],
   "source": [
    "a"
   ]
  },
  {
   "cell_type": "code",
   "execution_count": null,
   "metadata": {
    "collapsed": true
   },
   "outputs": [],
   "source": []
  }
 ],
 "metadata": {
  "kernelspec": {
   "display_name": "Python 3",
   "language": "python",
   "name": "python3"
  },
  "language_info": {
   "codemirror_mode": {
    "name": "ipython",
    "version": 3
   },
   "file_extension": ".py",
   "mimetype": "text/x-python",
   "name": "python",
   "nbconvert_exporter": "python",
   "pygments_lexer": "ipython3",
   "version": "3.6.2"
  }
 },
 "nbformat": 4,
 "nbformat_minor": 2
}
