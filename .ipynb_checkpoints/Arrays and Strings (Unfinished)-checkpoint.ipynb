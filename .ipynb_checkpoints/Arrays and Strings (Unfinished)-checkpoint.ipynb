{
 "cells": [
  {
   "cell_type": "markdown",
   "metadata": {},
   "source": [
    "#### 1.1 Is Unique: Implement an algorithm to determine if a string has all unique characters. What if you cannot use additional data structures? "
   ]
  },
  {
   "cell_type": "code",
   "execution_count": 26,
   "metadata": {},
   "outputs": [],
   "source": [
    "# Part a\n",
    "def isUnique(string):\n",
    "    if string == None:\n",
    "        return False\n",
    "    \n",
    "    s = set(string)\n",
    "    if len(s) != len(string):\n",
    "        return False\n",
    "    else:\n",
    "        return True\n",
    "\n",
    "assert isUnique(\"Sanketh\"), \"Should be Unique\"\n",
    "assert isUnique(\"Ssanketh\"), \"Should be unique\"\n",
    "assert isUnique(\"\"), \"Should be unique\"\n",
    "assert not isUnique(None), \"Should not be Unique\"\n",
    "assert not isUnique(\"ttest\"), \"Should not be unique\"\n",
    "\n",
    "# Part b\n",
    "def isUniqueb(string):\n",
    "    if string == None:\n",
    "        return False\n",
    "    \n",
    "    string = list(string)\n",
    "    string.sort()\n",
    "    \n",
    "    for i in range(1, len(string)):\n",
    "        if string[i] == string[i-1]:\n",
    "            return False\n",
    "    return True\n",
    "\n",
    "assert isUniqueb(\"Sanketh\"), \"Should be Unique\"\n",
    "assert isUniqueb(\"Ssanketh\"), \"Should be unique\"\n",
    "assert isUniqueb(\"\"), \"Should be unique\"\n",
    "assert not isUniqueb(None), \"Should not be Unique\"\n",
    "assert not isUniqueb(\"test\"), \"Should not be unique\""
   ]
  },
  {
   "cell_type": "markdown",
   "metadata": {},
   "source": [
    "Part a is O(N). Part b is O(NlogN) due to sorting. "
   ]
  },
  {
   "cell_type": "markdown",
   "metadata": {},
   "source": [
    "#### 1.2 Check Permutations: Given two strings, write a method to decide if one is a permutation of the other."
   ]
  },
  {
   "cell_type": "code",
   "execution_count": 28,
   "metadata": {},
   "outputs": [],
   "source": [
    "from collections import defaultdict\n",
    "def isPermutation(str1, str2):\n",
    "    if str1 == None or str2 == None:\n",
    "        return False\n",
    "    \n",
    "    if len(str1) != len(str2):\n",
    "        return False\n",
    "    \n",
    "    counts1 = defaultdict(int)\n",
    "    counts2 = defaultdict(int)\n",
    "    \n",
    "    for i in str1:\n",
    "        counts1[i] += 1\n",
    "    for i in str2:\n",
    "        counts2[i] += 1\n",
    "        \n",
    "    return counts1 == counts2\n",
    "\n",
    "assert isPermutation(\"sanketh\", \"hteknas\"), \"Should be a permutation\"\n",
    "assert isPermutation(\"ssas\", \"asss\"), \"Should be a permutation\"\n",
    "assert isPermutation(\"\", \"\"), \"Should be a permutation.\"\n",
    "assert not isPermutation(\"\", \"Sanketh\"), \"Should not be a permutation\"\n",
    "assert not isPermutation(\"sass\", \"sas\"), \"Should not be a permutation\"\n",
    "assert not isPermutation(\"sanketh\", None), \"Should not be a permutation\"\n",
    "assert not isPermutation(None, \"None\"), \"Should not be a permutation\""
   ]
  },
  {
   "cell_type": "markdown",
   "metadata": {},
   "source": [
    "The code is O(N)"
   ]
  },
  {
   "cell_type": "markdown",
   "metadata": {},
   "source": [
    "#### 1.3 URLify: Write a method to replace all spaces in a string with %20. You may assume that the string has sufficient space at the end to hold the additional characters, and that you are given the 'true' length of the string. Do it in place. "
   ]
  },
  {
   "cell_type": "markdown",
   "metadata": {},
   "source": [
    "Example:<br>\n",
    "Input: \"Mr John Smith    \", 13<br>\n",
    "Output: \"Mr%20John%20Smith\""
   ]
  },
  {
   "cell_type": "code",
   "execution_count": 47,
   "metadata": {},
   "outputs": [
    {
     "name": "stdout",
     "output_type": "stream",
     "text": [
      "Mr John Smith -> Mr%20John%20Smith\n",
      "Sanketh Kamath -> Sanketh%20Kamath\n",
      "None -> None\n",
      " -> \n"
     ]
    }
   ],
   "source": [
    "def createInput(string):\n",
    "    if string == None:\n",
    "        return None, None\n",
    "    \n",
    "    ns = string.replace(' ', '%20')\n",
    "    string = list(string)\n",
    "    dif = len(ns) - len(string)\n",
    "    for i in range(0, dif):\n",
    "        string.append(' ')\n",
    "    return ''.join(string), len(string)\n",
    "\n",
    "def urlify(tup):\n",
    "    string, length = tup\n",
    "    \n",
    "    if string == None:\n",
    "        return None\n",
    "    if string == \"\":\n",
    "        return \"\"\n",
    "    \n",
    "    string = list(string)\n",
    "    i = len(string) - 1\n",
    "    lastIndex = i\n",
    "    isSpace = None\n",
    "    \n",
    "    while i >= 0:\n",
    "        if string[i] != ' ':\n",
    "            temp = string[lastIndex]\n",
    "            string[lastIndex] = string[i]\n",
    "            string[i] = temp\n",
    "            lastIndex -= 1\n",
    "            \n",
    "        else:\n",
    "            if lastIndex != len(string) -1:\n",
    "                string[lastIndex] = '0'\n",
    "                lastIndex -= 1\n",
    "                string[lastIndex] = '2'\n",
    "                lastIndex -= 1\n",
    "                string[lastIndex] = '%'\n",
    "                lastIndex -= 1\n",
    "        \n",
    "        i -= 1\n",
    "    return ''.join(string)\n",
    "\n",
    "a = 'Mr John Smith'\n",
    "b = 'Sanketh Kamath'\n",
    "c = None\n",
    "d = \"\"\n",
    "print('{0} -> {1}'.format(a, urlify(createInput(a))))\n",
    "print('{0} -> {1}'.format(b, urlify(createInput(b))))\n",
    "print('{0} -> {1}'.format(c, urlify(createInput(c))))\n",
    "print('{0} -> {1}'.format(d, urlify(createInput(d))))"
   ]
  },
  {
   "cell_type": "markdown",
   "metadata": {},
   "source": [
    "Operation is O(N)."
   ]
  },
  {
   "cell_type": "markdown",
   "metadata": {},
   "source": [
    "#### 1.4 Palindrome Permuation: Given a string write a function to check if it is a permutation of a palindrome."
   ]
  },
  {
   "cell_type": "markdown",
   "metadata": {},
   "source": [
    "Example: <br>\n",
    "Input: Tact Coa <br>\n",
    "Output: True (permutations: \"taco cat\", \"atco cta\", etc.)"
   ]
  },
  {
   "cell_type": "code",
   "execution_count": 55,
   "metadata": {},
   "outputs": [],
   "source": [
    "from collections import defaultdict\n",
    "def isPallindromePermutation(string):\n",
    "    if string == None: return False\n",
    "    if string == \"\": return True\n",
    "    string = string.lower()\n",
    "    \n",
    "    counts = defaultdict(int)\n",
    "    for i in string:\n",
    "        if i != ' ':\n",
    "            counts[i] += 1\n",
    "    \n",
    "    odds = 0\n",
    "    for key, value in counts.items():\n",
    "        if value % 2 != 0:\n",
    "            odds += 1\n",
    "    if odds > 1:\n",
    "        return False\n",
    "    else:\n",
    "        return True\n",
    "\n",
    "assert isPallindromePermutation('Tact Coa'), 'Is Pallindrome'\n",
    "assert isPallindromePermutation('ra ce ca r'), 'Is Pallindrome'\n",
    "assert isPallindromePermutation('ce ra ca r'), 'Is Pallindrome'\n",
    "assert not isPallindromePermutation('Sanketh'), 'Is not pallindrome'\n",
    "assert not isPallindromePermutation(None), 'Is not pallindrome'\n",
    "assert isPallindromePermutation(''), 'Is not pallindrome'\n",
    "assert isPallindromePermutation('sS'), 'Is pallindrome'\n",
    "assert isPallindromePermutation('ssssS'), 'Is pallindrome'"
   ]
  },
  {
   "cell_type": "markdown",
   "metadata": {},
   "source": [
    "Is O(N)"
   ]
  },
  {
   "cell_type": "code",
   "execution_count": null,
   "metadata": {
    "collapsed": true
   },
   "outputs": [],
   "source": []
  }
 ],
 "metadata": {
  "kernelspec": {
   "display_name": "Python 3",
   "language": "python",
   "name": "python3"
  },
  "language_info": {
   "codemirror_mode": {
    "name": "ipython",
    "version": 3
   },
   "file_extension": ".py",
   "mimetype": "text/x-python",
   "name": "python",
   "nbconvert_exporter": "python",
   "pygments_lexer": "ipython3",
   "version": "3.6.2"
  }
 },
 "nbformat": 4,
 "nbformat_minor": 2
}
